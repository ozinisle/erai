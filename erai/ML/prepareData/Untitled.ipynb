{
 "cells": [
  {
   "cell_type": "markdown",
   "metadata": {},
   "source": [
    "# Stock Price Predictor\n",
    "## Pre-requisites\n",
    "You will have to pocess the stock's data in json format in a folder location which istrictly follows the following pattern 'data/stockname/raw/type-of-data'\n",
    "\n",
    "For example, 'data/itc/raw/1h'\n",
    "\n",
    "The folder location that you will mention below should have json files with data associated with only one stock information. If not the please clean it up and until then do not proceed further with this procedure\n",
    "\n",
    "You Will have to ensure that the data provided via the json files are clean\n",
    "\n",
    "should not have duplicates\n",
    "should not have incomplete, empty or semi furnished information\n",
    "should not have wrong or assumed data which might screw the predictor.\n",
    "You will have to configure the following inputs to kick start the prediction process\n",
    "\n",
    "CAUTION : The procedure will create a folder named \"processed\" parallel to the folder named\"raw\" as mentioned in the input format. If you have such a folder already in place BE WARNED - IT WILL BE OVER WRITTEN . You have been warned.\n",
    "\n",
    "The following procedure does not have any explict check or validation with respect to the items mentioned above\n",
    "\n",
    "## Configure inputs"
   ]
  },
  {
   "cell_type": "code",
   "execution_count": 3,
   "metadata": {},
   "outputs": [
    {
     "name": "stdout",
     "output_type": "stream",
     "text": [
      "done\n"
     ]
    }
   ],
   "source": [
    "raw_data_folder_path = 'data/adani/raw/1h' \n",
    "print('done')"
   ]
  },
  {
   "cell_type": "markdown",
   "metadata": {},
   "source": [
    "## Creating a more friendly raw data file to work with "
   ]
  },
  {
   "cell_type": "code",
   "execution_count": 4,
   "metadata": {
    "scrolled": true
   },
   "outputs": [
    {
     "name": "stdout",
     "output_type": "stream",
     "text": [
      "C:\\Users\\kalagi01\\Desktop\\dev\\erai\n",
      "looping through all the files to create input data\n",
      "Error executing method >>> \n",
      "Traceback (most recent call last):\n",
      "  File \"C:\\Users\\kalagi01\\Desktop\\dev\\erai\\lib\\dataPreparation\\processRawData.py\", line 71, in readRawData\n",
      "    inputRawDataDF.columns = ['date-time', 'open', 'high', 'low', 'close', 'quantity','dont-know']\n",
      "  File \"C:\\ProgramData\\Anaconda3\\lib\\site-packages\\pandas\\core\\generic.py\", line 5080, in __setattr__\n",
      "    return object.__setattr__(self, name, value)\n",
      "  File \"pandas/_libs/properties.pyx\", line 69, in pandas._libs.properties.AxisProperty.__set__\n",
      "  File \"C:\\ProgramData\\Anaconda3\\lib\\site-packages\\pandas\\core\\generic.py\", line 638, in _set_axis\n",
      "    self._data.set_axis(axis, labels)\n",
      "  File \"C:\\ProgramData\\Anaconda3\\lib\\site-packages\\pandas\\core\\internals\\managers.py\", line 155, in set_axis\n",
      "    'values have {new} elements'.format(old=old_len, new=new_len))\n",
      "ValueError: Length mismatch: Expected axis has 0 elements, new values have 7 elements\n",
      "\n",
      "Traceback (most recent call last):\n",
      "  File \"C:\\Users\\kalagi01\\Desktop\\dev\\erai\\lib\\dataPreparation\\processRawData.py\", line 71, in readRawData\n",
      "ValueError: [<FrameSummary file C:\\Users\\kalagi01\\Desktop\\dev\\erai\\lib\\dataPreparation\\processRawData.py, line 71 in readRawData>, <FrameSummary file C:\\ProgramData\\Anaconda3\\lib\\site-packages\\pandas\\core\\generic.py, line 5080 in __setattr__>, <FrameSummary file pandas/_libs/properties.pyx, line 69 in pandas._libs.properties.AxisProperty.__set__>, <FrameSummary file C:\\ProgramData\\Anaconda3\\lib\\site-packages\\pandas\\core\\generic.py, line 638 in _set_axis>, <FrameSummary file C:\\ProgramData\\Anaconda3\\lib\\site-packages\\pandas\\core\\internals\\managers.py, line 155 in set_axis>]\n",
      "\n"
     ]
    },
    {
     "ename": "TypeError",
     "evalue": "can only concatenate str (not \"NoneType\") to str",
     "output_type": "error",
     "traceback": [
      "\u001b[1;31m---------------------------------------------------------------------------\u001b[0m",
      "\u001b[1;31mTypeError\u001b[0m                                 Traceback (most recent call last)",
      "\u001b[1;32m<ipython-input-4-e54ae321789d>\u001b[0m in \u001b[0;36m<module>\u001b[1;34m\u001b[0m\n\u001b[0;32m      9\u001b[0m \u001b[1;33m\u001b[0m\u001b[0m\n\u001b[0;32m     10\u001b[0m \u001b[0mrawProcessedInputDataInfo\u001b[0m\u001b[1;33m=\u001b[0m\u001b[0mreadRawData\u001b[0m\u001b[1;33m(\u001b[0m\u001b[0mraw_data_folder_path\u001b[0m\u001b[1;33m)\u001b[0m\u001b[1;33m\u001b[0m\u001b[1;33m\u001b[0m\u001b[0m\n\u001b[1;32m---> 11\u001b[1;33m \u001b[0mprint\u001b[0m\u001b[1;33m(\u001b[0m\u001b[1;34m'\\nprocessed raw data and created processable csv file for data preparation at >>>'\u001b[0m \u001b[1;33m+\u001b[0m \u001b[0mrawProcessedInputDataInfo\u001b[0m\u001b[1;33m[\u001b[0m\u001b[1;36m1\u001b[0m\u001b[1;33m]\u001b[0m\u001b[1;33m)\u001b[0m\u001b[1;33m\u001b[0m\u001b[1;33m\u001b[0m\u001b[0m\n\u001b[0m\u001b[0;32m     12\u001b[0m \u001b[0mprint\u001b[0m\u001b[1;33m(\u001b[0m\u001b[1;34m'done'\u001b[0m\u001b[1;33m)\u001b[0m\u001b[1;33m\u001b[0m\u001b[1;33m\u001b[0m\u001b[0m\n",
      "\u001b[1;31mTypeError\u001b[0m: can only concatenate str (not \"NoneType\") to str"
     ]
    }
   ],
   "source": [
    "# Include python files defined in the library folder to help facilitate the stock price Prediction \n",
    "import os\n",
    "import sys  \n",
    "module_path = os.path.abspath('../../'+os.path.join('.'))\n",
    "sys.path.insert(0, module_path+'\\\\lib')\n",
    "print(module_path)\n",
    "\n",
    "from dataPreparation import readRawData\n",
    "\n",
    "rawProcessedInputDataInfo=readRawData(raw_data_folder_path)\n",
    "print('\\nprocessed raw data and created processable csv file for data preparation at >>>' + rawProcessedInputDataInfo[1])\n",
    "print('done')\n"
   ]
  },
  {
   "cell_type": "code",
   "execution_count": null,
   "metadata": {},
   "outputs": [],
   "source": []
  }
 ],
 "metadata": {
  "kernelspec": {
   "display_name": "Python 3",
   "language": "python",
   "name": "python3"
  }
 },
 "nbformat": 4,
 "nbformat_minor": 2
}
